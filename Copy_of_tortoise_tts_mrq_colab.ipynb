{
  "cells": [
    {
      "cell_type": "markdown",
      "metadata": {
        "id": "view-in-github",
        "colab_type": "text"
      },
      "source": [
        "<a href=\"https://colab.research.google.com/github/syeuk2002/tortoise-tts/blob/main/Copy_of_tortoise_tts_mrq_colab.ipynb\" target=\"_parent\"><img src=\"https://colab.research.google.com/assets/colab-badge.svg\" alt=\"Open In Colab\"/></a>"
      ]
    },
    {
      "cell_type": "code",
      "execution_count": null,
      "metadata": {
        "id": "FtsMKKfH18iM"
      },
      "outputs": [],
      "source": [
        "!apt install python3.8-venv\n",
        "!git clone https://git.ecker.tech/camenduru/ai-voice-cloning\n",
        "!git clone https://github.com/syeuk2002/tortoise-tts\n",
        "%cd /content/ai-voice-cloning\n",
        "!./setup-cuda.sh\n",
        "\n",
        "import shutil\n",
        "import os\n",
        "\n",
        "# Source and target directories\n",
        "source_directory = \"/content/tortoise-tts/tortoise/voices\"\n",
        "target_directory = \"/content/ai-voice-cloning/voices\"\n",
        "\n",
        "# Ensure the target directory exists\n",
        "if not os.path.exists(target_directory):\n",
        "    os.makedirs(target_directory)\n",
        "\n",
        "# List all files and folders in the source directory\n",
        "files_and_folders = os.listdir(source_directory)\n",
        "\n",
        "# Copy each file and folder to the target directory\n",
        "for item in files_and_folders:\n",
        "    source_item = os.path.join(source_directory, item)\n",
        "    target_item = os.path.join(target_directory, item)\n",
        "\n",
        "    # Check if it's a file or a directory\n",
        "    if os.path.isfile(source_item):\n",
        "        shutil.copy2(source_item, target_item)  # Copy file\n",
        "    elif os.path.isdir(source_item):\n",
        "        shutil.copytree(source_item, target_item)  # Copy directory\n",
        "\n",
        "print(\"Voices imported successfully.\")\n",
        "\n",
        "%cd /content/ai-voice-cloning/\n",
        "!./start.sh --share"
      ]
    }
  ],
  "metadata": {
    "accelerator": "GPU",
    "colab": {
      "private_outputs": true,
      "provenance": [],
      "include_colab_link": true
    },
    "gpuClass": "standard",
    "kernelspec": {
      "display_name": "Python 3",
      "name": "python3"
    },
    "language_info": {
      "name": "python"
    }
  },
  "nbformat": 4,
  "nbformat_minor": 0
}